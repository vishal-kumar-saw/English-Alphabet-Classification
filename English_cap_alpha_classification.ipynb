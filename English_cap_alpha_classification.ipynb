{
  "nbformat": 4,
  "nbformat_minor": 0,
  "metadata": {
    "colab": {
      "name": "English_cap_alpha_classification.ipynb",
      "provenance": [],
      "machine_shape": "hm"
    },
    "kernelspec": {
      "name": "python3",
      "display_name": "Python 3"
    },
    "accelerator": "TPU"
  },
  "cells": [
    {
      "cell_type": "code",
      "metadata": {
        "id": "Ns64S0aNqIva",
        "colab_type": "code",
        "colab": {
          "base_uri": "https://localhost:8080/",
          "height": 35
        },
        "outputId": "027e3f53-9993-493e-9cab-badad97ee425"
      },
      "source": [
        "# mounting google drive\n",
        "from google.colab import drive \n",
        "drive.mount('/content/drive')"
      ],
      "execution_count": 1,
      "outputs": [
        {
          "output_type": "stream",
          "text": [
            "Mounted at /content/drive\n"
          ],
          "name": "stdout"
        }
      ]
    },
    {
      "cell_type": "code",
      "metadata": {
        "id": "tNJnjBtwqeDC",
        "colab_type": "code",
        "colab": {
          "base_uri": "https://localhost:8080/",
          "height": 54
        },
        "outputId": "2179ad1f-acb5-4f0a-c6b0-3b9008561c5e"
      },
      "source": [
        "# unzip the folder\n",
        "!unzip '/content/drive/My Drive/handwritten_data_785.csv.zip'"
      ],
      "execution_count": 2,
      "outputs": [
        {
          "output_type": "stream",
          "text": [
            "Archive:  /content/drive/My Drive/handwritten_data_785.csv.zip\n",
            "  inflating: handwritten_data_785.csv  \n"
          ],
          "name": "stdout"
        }
      ]
    },
    {
      "cell_type": "code",
      "metadata": {
        "id": "j0oNIrhmq51D",
        "colab_type": "code",
        "colab": {}
      },
      "source": [
        "# import library\n",
        "import numpy as np \n",
        "import pandas as pd\n",
        "import matplotlib.pyplot as plt\n",
        "from sklearn.utils import shuffle\n",
        "from sklearn.preprocessing import StandardScaler"
      ],
      "execution_count": 3,
      "outputs": []
    },
    {
      "cell_type": "code",
      "metadata": {
        "id": "Ehw4bhRArG-m",
        "colab_type": "code",
        "colab": {}
      },
      "source": [
        "# load data\n",
        "data=pd.read_csv('/content/drive/My Drive/handwritten_data_785.csv.zip', )"
      ],
      "execution_count": 4,
      "outputs": []
    },
    {
      "cell_type": "code",
      "metadata": {
        "id": "Uv9LphOyBVcp",
        "colab_type": "code",
        "colab": {}
      },
      "source": [
        "# shuffle and inplac ethe data\n",
        "data = data.sample(frac=1).reset_index(drop=True)"
      ],
      "execution_count": 5,
      "outputs": []
    },
    {
      "cell_type": "code",
      "metadata": {
        "id": "-TejiG1BD51p",
        "colab_type": "code",
        "colab": {}
      },
      "source": [
        "# get label\n",
        "l=data['0']\n",
        "data.drop('0',axis=1,inplace=True)\n",
        "\n",
        "# preprocess input data\n",
        "input_data=StandardScaler().fit_transform(data)\n",
        "input_data=np.array(input_data).reshape(372037,28,28,1)"
      ],
      "execution_count": 6,
      "outputs": []
    },
    {
      "cell_type": "code",
      "metadata": {
        "id": "-SDHXVm0r3m8",
        "colab_type": "code",
        "colab": {}
      },
      "source": [
        "# convert label to categorical data\n",
        "from keras.utils import to_categorical\n",
        "label=to_categorical(l)"
      ],
      "execution_count": 7,
      "outputs": []
    },
    {
      "cell_type": "code",
      "metadata": {
        "id": "fgl2IJoNr-y8",
        "colab_type": "code",
        "colab": {}
      },
      "source": [
        "from tensorflow import keras\n",
        "from keras.models import Sequential\n",
        "from keras.layers import Conv2D,MaxPooling2D,Flatten,Dense,BatchNormalization,Dropout\n",
        "\n",
        "# make model_cnn\n",
        "model_cnn=Sequential()\n",
        "\n",
        "model_cnn.add(Conv2D(kernel_size=(3,3),filters=32,padding=\"valid\",input_shape=(28,28,1),activation='relu'))\n",
        "model_cnn.add(MaxPooling2D())\n",
        "model_cnn.add(BatchNormalization())\n",
        "\n",
        "\n",
        "model_cnn.add(Conv2D(kernel_size=(3,3),filters=64,padding=\"same\",activation='relu'))\n",
        "model_cnn.add(MaxPooling2D())\n",
        "model_cnn.add(BatchNormalization())\n",
        "\n",
        "\n",
        "model_cnn.add(Conv2D(kernel_size=(3,3),filters=128,padding=\"same\",activation='relu'))\n",
        "model_cnn.add(MaxPooling2D())\n",
        "model_cnn.add(BatchNormalization())\n",
        "\n",
        "\n",
        "model_cnn.add(Conv2D(kernel_size=(3,3),filters=256,padding=\"same\",activation='relu'))\n",
        "model_cnn.add(MaxPooling2D())\n",
        "model_cnn.add(BatchNormalization())\n",
        "\n",
        "model_cnn.add(Flatten())\n",
        "\n",
        "model_cnn.add(Dense(750,activation='relu'))\n",
        "model_cnn.add(Dense(800,activation='relu'))\n",
        "model_cnn.add(Dense(26,activation='sigmoid'))"
      ],
      "execution_count": 8,
      "outputs": []
    },
    {
      "cell_type": "code",
      "metadata": {
        "id": "CT64TD1Isr4x",
        "colab_type": "code",
        "colab": {}
      },
      "source": [
        "# compile model_cnn\n",
        "model_cnn.compile(optimizer='RMSprop',loss='binary_crossentropy',metrics=['accuracy'])"
      ],
      "execution_count": 9,
      "outputs": []
    },
    {
      "cell_type": "code",
      "metadata": {
        "id": "Kv9Bmui_HEhf",
        "colab_type": "code",
        "colab": {
          "base_uri": "https://localhost:8080/",
          "height": 1000
        },
        "outputId": "e9f73914-a0d2-4a50-a633-efaec05120ff"
      },
      "source": [
        "# fit model_cnn\n",
        "model_cnn.fit(input_data,label,batch_size=512,validation_split=0.1,epochs=30)"
      ],
      "execution_count": 10,
      "outputs": [
        {
          "output_type": "stream",
          "text": [
            "Epoch 1/30\n",
            "654/654 [==============================] - 72s 110ms/step - loss: 0.0100 - accuracy: 0.9632 - val_loss: 0.0046 - val_accuracy: 0.9824\n",
            "Epoch 2/30\n",
            "654/654 [==============================] - 71s 109ms/step - loss: 0.0035 - accuracy: 0.9867 - val_loss: 0.0037 - val_accuracy: 0.9864\n",
            "Epoch 3/30\n",
            "654/654 [==============================] - 72s 110ms/step - loss: 0.0026 - accuracy: 0.9903 - val_loss: 0.0028 - val_accuracy: 0.9896\n",
            "Epoch 4/30\n",
            "654/654 [==============================] - 74s 113ms/step - loss: 0.0019 - accuracy: 0.9926 - val_loss: 0.0032 - val_accuracy: 0.9908\n",
            "Epoch 5/30\n",
            "654/654 [==============================] - 72s 110ms/step - loss: 0.0016 - accuracy: 0.9939 - val_loss: 0.0041 - val_accuracy: 0.9883\n",
            "Epoch 6/30\n",
            "654/654 [==============================] - 73s 111ms/step - loss: 0.0013 - accuracy: 0.9951 - val_loss: 0.0029 - val_accuracy: 0.9921\n",
            "Epoch 7/30\n",
            "654/654 [==============================] - 73s 111ms/step - loss: 0.0013 - accuracy: 0.9957 - val_loss: 0.0028 - val_accuracy: 0.9929\n",
            "Epoch 8/30\n",
            "654/654 [==============================] - 75s 114ms/step - loss: 0.0011 - accuracy: 0.9962 - val_loss: 0.0029 - val_accuracy: 0.9925\n",
            "Epoch 9/30\n",
            "654/654 [==============================] - 74s 112ms/step - loss: 9.9212e-04 - accuracy: 0.9967 - val_loss: 0.0032 - val_accuracy: 0.9936\n",
            "Epoch 10/30\n",
            "654/654 [==============================] - 75s 114ms/step - loss: 9.3621e-04 - accuracy: 0.9969 - val_loss: 0.0040 - val_accuracy: 0.9933\n",
            "Epoch 11/30\n",
            "654/654 [==============================] - 75s 114ms/step - loss: 9.0544e-04 - accuracy: 0.9970 - val_loss: 0.0038 - val_accuracy: 0.9926\n",
            "Epoch 12/30\n",
            "654/654 [==============================] - 76s 117ms/step - loss: 8.6066e-04 - accuracy: 0.9974 - val_loss: 0.0054 - val_accuracy: 0.9937\n",
            "Epoch 13/30\n",
            "654/654 [==============================] - 74s 113ms/step - loss: 8.3113e-04 - accuracy: 0.9974 - val_loss: 0.0035 - val_accuracy: 0.9941\n",
            "Epoch 14/30\n",
            "654/654 [==============================] - 73s 112ms/step - loss: 8.0335e-04 - accuracy: 0.9976 - val_loss: 0.0045 - val_accuracy: 0.9941\n",
            "Epoch 15/30\n",
            "654/654 [==============================] - 74s 113ms/step - loss: 7.7165e-04 - accuracy: 0.9978 - val_loss: 0.0034 - val_accuracy: 0.9944\n",
            "Epoch 16/30\n",
            "654/654 [==============================] - 74s 113ms/step - loss: 7.5452e-04 - accuracy: 0.9979 - val_loss: 0.0046 - val_accuracy: 0.9949\n",
            "Epoch 17/30\n",
            "654/654 [==============================] - 75s 115ms/step - loss: 7.2127e-04 - accuracy: 0.9980 - val_loss: 0.0048 - val_accuracy: 0.9935\n",
            "Epoch 18/30\n",
            "654/654 [==============================] - 74s 114ms/step - loss: 6.4327e-04 - accuracy: 0.9982 - val_loss: 0.0050 - val_accuracy: 0.9949\n",
            "Epoch 19/30\n",
            "654/654 [==============================] - 78s 119ms/step - loss: 6.4349e-04 - accuracy: 0.9983 - val_loss: 0.0041 - val_accuracy: 0.9951\n",
            "Epoch 20/30\n",
            "654/654 [==============================] - 75s 114ms/step - loss: 6.0455e-04 - accuracy: 0.9985 - val_loss: 0.0041 - val_accuracy: 0.9954\n",
            "Epoch 21/30\n",
            "654/654 [==============================] - 75s 115ms/step - loss: 5.9944e-04 - accuracy: 0.9985 - val_loss: 0.0038 - val_accuracy: 0.9958\n",
            "Epoch 22/30\n",
            "654/654 [==============================] - 76s 116ms/step - loss: 5.7083e-04 - accuracy: 0.9985 - val_loss: 0.0043 - val_accuracy: 0.9951\n",
            "Epoch 23/30\n",
            "654/654 [==============================] - 74s 113ms/step - loss: 5.9825e-04 - accuracy: 0.9985 - val_loss: 0.0048 - val_accuracy: 0.9949\n",
            "Epoch 24/30\n",
            "654/654 [==============================] - 73s 112ms/step - loss: 5.4411e-04 - accuracy: 0.9986 - val_loss: 0.0046 - val_accuracy: 0.9946\n",
            "Epoch 25/30\n",
            "654/654 [==============================] - 75s 115ms/step - loss: 5.2675e-04 - accuracy: 0.9986 - val_loss: 0.0045 - val_accuracy: 0.9949\n",
            "Epoch 26/30\n",
            "654/654 [==============================] - 73s 112ms/step - loss: 4.8936e-04 - accuracy: 0.9988 - val_loss: 0.0068 - val_accuracy: 0.9943\n",
            "Epoch 27/30\n",
            "654/654 [==============================] - 73s 112ms/step - loss: 5.1585e-04 - accuracy: 0.9987 - val_loss: 0.0048 - val_accuracy: 0.9949\n",
            "Epoch 28/30\n",
            "654/654 [==============================] - 73s 112ms/step - loss: 4.6923e-04 - accuracy: 0.9989 - val_loss: 0.0049 - val_accuracy: 0.9960\n",
            "Epoch 29/30\n",
            "654/654 [==============================] - 75s 115ms/step - loss: 4.2310e-04 - accuracy: 0.9989 - val_loss: 0.0062 - val_accuracy: 0.9957\n",
            "Epoch 30/30\n",
            "654/654 [==============================] - 74s 113ms/step - loss: 4.8360e-04 - accuracy: 0.9989 - val_loss: 0.0053 - val_accuracy: 0.9953\n"
          ],
          "name": "stdout"
        },
        {
          "output_type": "execute_result",
          "data": {
            "text/plain": [
              "<tensorflow.python.keras.callbacks.History at 0x7fc0b1d527b8>"
            ]
          },
          "metadata": {
            "tags": []
          },
          "execution_count": 10
        }
      ]
    },
    {
      "cell_type": "code",
      "metadata": {
        "id": "UMbqbuz6toOb",
        "colab_type": "code",
        "colab": {}
      },
      "source": [
        "import pickle\n",
        "pickle.dump('model_cnn', open('alpha_cnn.pkl', 'wb'))"
      ],
      "execution_count": 11,
      "outputs": []
    },
    {
      "cell_type": "code",
      "metadata": {
        "id": "y3ljYz2vwFAx",
        "colab_type": "code",
        "colab": {}
      },
      "source": [
        "model_cnn.save('model_cnn.h5')"
      ],
      "execution_count": 13,
      "outputs": []
    },
    {
      "cell_type": "code",
      "metadata": {
        "id": "LoD-DWn6HpZg",
        "colab_type": "code",
        "colab": {}
      },
      "source": [
        ""
      ],
      "execution_count": 12,
      "outputs": []
    },
    {
      "cell_type": "code",
      "metadata": {
        "id": "MxgsdVubH8_M",
        "colab_type": "code",
        "colab": {}
      },
      "source": [
        ""
      ],
      "execution_count": null,
      "outputs": []
    }
  ]
}